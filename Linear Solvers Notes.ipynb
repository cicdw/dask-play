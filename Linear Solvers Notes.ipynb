{
 "cells": [
  {
   "cell_type": "code",
   "execution_count": 1,
   "metadata": {
    "collapsed": true
   },
   "outputs": [],
   "source": [
    "%matplotlib inline\n",
    "\n",
    "import dask.array as da\n",
    "from multipledispatch import dispatch\n",
    "import matplotlib.pyplot as plt\n",
    "import numpy as np"
   ]
  },
  {
   "cell_type": "code",
   "execution_count": 2,
   "metadata": {
    "collapsed": true
   },
   "outputs": [],
   "source": [
    "@dispatch(np.ndarray,np.ndarray)\n",
    "def dot(A,B):\n",
    "    return np.dot(A,B)\n",
    "\n",
    "@dispatch(da.Array,da.Array)\n",
    "def dot(A,B):\n",
    "    return da.dot(A,B)\n",
    "\n",
    "@dispatch(np.ndarray)\n",
    "def diag(A):\n",
    "    return np.diag(np.diag(A))\n",
    "\n",
    "@dispatch(da.Array)\n",
    "def diag(A):\n",
    "    return da.diag(da.diag(A))\n",
    "\n",
    "@dispatch(np.ndarray)\n",
    "def inv_diag(A):\n",
    "    return np.diag(1/np.diag(A))\n",
    "\n",
    "@dispatch(da.Array)\n",
    "def inv_diag(A):\n",
    "    return da.diag(1/da.diag(A))\n",
    "\n",
    "@dispatch(np.ndarray)\n",
    "def absolute(A):\n",
    "    return np.absolute(A)\n",
    "\n",
    "@dispatch(da.Array)\n",
    "def absolute(A):\n",
    "    return da.absolute(A)"
   ]
  },
  {
   "cell_type": "code",
   "execution_count": 3,
   "metadata": {
    "collapsed": false
   },
   "outputs": [],
   "source": [
    "n = 5000\n",
    "seed = 20009\n",
    "np.random.seed(seed)\n",
    "\n",
    "A = np.random.normal(0,1,size=(n,n))\n",
    "A = A + A.transpose() # symmetrize\n",
    "np.fill_diagonal(A,n) # diagonally dominant\n",
    "x = np.random.normal(10,3,size=(n,1))\n",
    "b = A.dot(x)\n",
    "\n",
    "A_da = da.from_array(A, chunks=(1000,1000))\n",
    "x_da = da.from_array(x, chunks=(1000,1))\n",
    "b_da = da.from_array(b, chunks=(1000,1))"
   ]
  },
  {
   "cell_type": "markdown",
   "metadata": {},
   "source": [
    "## Solving Linear Systems\n",
    "\n",
    "### Using the API"
   ]
  },
  {
   "cell_type": "code",
   "execution_count": 4,
   "metadata": {
    "collapsed": false
   },
   "outputs": [
    {
     "name": "stdout",
     "output_type": "stream",
     "text": [
      "CPU times: user 4.67 s, sys: 150 ms, total: 4.82 s\n",
      "Wall time: 1.72 s\n"
     ]
    }
   ],
   "source": [
    "%%time\n",
    "x0 = np.linalg.solve(A,b)"
   ]
  },
  {
   "cell_type": "code",
   "execution_count": 5,
   "metadata": {
    "collapsed": false
   },
   "outputs": [
    {
     "data": {
      "text/plain": [
       "8.7962369726464375e-25"
      ]
     },
     "execution_count": 5,
     "metadata": {},
     "output_type": "execute_result"
    }
   ],
   "source": [
    "np_err = np.absolute(x0-x)**2\n",
    "np_err.sum()"
   ]
  },
  {
   "cell_type": "code",
   "execution_count": 6,
   "metadata": {
    "collapsed": false
   },
   "outputs": [
    {
     "name": "stdout",
     "output_type": "stream",
     "text": [
      "CPU times: user 7.61 s, sys: 437 ms, total: 8.05 s\n",
      "Wall time: 2.51 s\n"
     ]
    }
   ],
   "source": [
    "%%time\n",
    "x0 = da.linalg.solve(A_da,b_da)\n",
    "x0 = x0.compute()"
   ]
  },
  {
   "cell_type": "code",
   "execution_count": 7,
   "metadata": {
    "collapsed": false,
    "scrolled": true
   },
   "outputs": [
    {
     "data": {
      "text/plain": [
       "8.5249601565520921e-25"
      ]
     },
     "execution_count": 7,
     "metadata": {},
     "output_type": "execute_result"
    }
   ],
   "source": [
    "da_err = da.absolute(x0-x_da)**2\n",
    "da_err.sum().compute()"
   ]
  },
  {
   "cell_type": "markdown",
   "metadata": {},
   "source": [
    "### Using Jacobi"
   ]
  },
  {
   "cell_type": "code",
   "execution_count": 8,
   "metadata": {
    "collapsed": true
   },
   "outputs": [],
   "source": [
    "def jacobi(A,b,init):\n",
    "    \n",
    "    ## set up parameters\n",
    "    tol = 1e-8\n",
    "    omega = 0.75\n",
    "    MAX_ITER = 100\n",
    "    count = 0\n",
    "    \n",
    "    ## set up relevant matrices\n",
    "    D = diag(A)\n",
    "    Dinv = inv_diag(A)\n",
    "    main = dot(Dinv,A-D)\n",
    "    xplus = init\n",
    "    const = dot(Dinv,b)\n",
    "    \n",
    "    converged = False\n",
    "    \n",
    "    while not converged:\n",
    "        \n",
    "        count += 1\n",
    "        old = xplus\n",
    "        xplus = omega*(const - dot(main,xplus)) + (1-omega)*xplus\n",
    "        err = absolute(old-xplus)**2\n",
    "        err = da.compute(err.sum())[0]\n",
    "        \n",
    "        print(\"{0} : {1}\".format(count,err))\n",
    "        \n",
    "        if ((err<tol) or (count>MAX_ITER)):\n",
    "            converged = True\n",
    "            \n",
    "    return xplus"
   ]
  },
  {
   "cell_type": "code",
   "execution_count": 9,
   "metadata": {
    "collapsed": true
   },
   "outputs": [],
   "source": [
    "init = np.ones((n,1))/n\n",
    "init_da = da.from_array(init, chunks=(1000,1))"
   ]
  },
  {
   "cell_type": "code",
   "execution_count": 10,
   "metadata": {
    "collapsed": false
   },
   "outputs": [
    {
     "name": "stdout",
     "output_type": "stream",
     "text": [
      "1 : 304816.72800748266\n",
      "2 : 19072.783901650542\n",
      "3 : 1210.5058295323317\n",
      "4 : 77.8994704541918\n",
      "5 : 5.080203974947527\n",
      "6 : 0.3355154185454569\n",
      "7 : 0.02242292084144895\n",
      "8 : 0.001515160347123608\n",
      "9 : 0.00010342843283987332\n",
      "10 : 7.126349493380152e-06\n",
      "11 : 4.952033272182116e-07\n",
      "12 : 3.467785423956799e-08\n",
      "13 : 2.4454565423544115e-09\n",
      "CPU times: user 14.4 s, sys: 336 ms, total: 14.8 s\n",
      "Wall time: 4.17 s\n"
     ]
    },
    {
     "data": {
      "text/plain": [
       "array([[  4.98054334],\n",
       "       [  9.59376154],\n",
       "       [  8.17369321],\n",
       "       ..., \n",
       "       [ 10.1059967 ],\n",
       "       [  8.06264909],\n",
       "       [  8.63343822]])"
      ]
     },
     "execution_count": 10,
     "metadata": {},
     "output_type": "execute_result"
    }
   ],
   "source": [
    "%%time\n",
    "jacobi(A,b,init)"
   ]
  },
  {
   "cell_type": "code",
   "execution_count": 11,
   "metadata": {
    "collapsed": false
   },
   "outputs": [
    {
     "name": "stdout",
     "output_type": "stream",
     "text": [
      "1 : 304816.72800748266\n",
      "2 : 19072.78390165054\n",
      "3 : 1210.505829532332\n",
      "4 : 77.89947045419181\n",
      "5 : 5.08020397494753\n",
      "6 : 0.3355154185454551\n",
      "7 : 0.022422920841448674\n",
      "8 : 0.001515160347123639\n",
      "9 : 0.00010342843283991032\n",
      "10 : 7.126349493373324e-06\n",
      "11 : 4.95203327220078e-07\n",
      "12 : 3.467785423953907e-08\n",
      "13 : 2.4454565422468767e-09\n",
      "CPU times: user 4min 14s, sys: 10.5 s, total: 4min 25s\n",
      "Wall time: 1min 9s\n"
     ]
    },
    {
     "data": {
      "text/plain": [
       "dask.array<add-626..., shape=(5000, 1), dtype=float64, chunksize=(1000, 1)>"
      ]
     },
     "execution_count": 11,
     "metadata": {},
     "output_type": "execute_result"
    }
   ],
   "source": [
    "%%time\n",
    "jacobi(A_da,b_da,init_da)"
   ]
  },
  {
   "cell_type": "markdown",
   "metadata": {},
   "source": [
    "I must be thinking of something incorrectly with `da.compute()` and how I organize this..."
   ]
  },
  {
   "cell_type": "code",
   "execution_count": null,
   "metadata": {
    "collapsed": true
   },
   "outputs": [],
   "source": []
  }
 ],
 "metadata": {
  "kernelspec": {
   "display_name": "Python 3",
   "language": "python",
   "name": "python3"
  },
  "language_info": {
   "codemirror_mode": {
    "name": "ipython",
    "version": 3
   },
   "file_extension": ".py",
   "mimetype": "text/x-python",
   "name": "python",
   "nbconvert_exporter": "python",
   "pygments_lexer": "ipython3",
   "version": "3.5.2"
  }
 },
 "nbformat": 4,
 "nbformat_minor": 0
}
