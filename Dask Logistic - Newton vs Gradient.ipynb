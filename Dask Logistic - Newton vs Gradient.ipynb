{
 "cells": [
  {
   "cell_type": "code",
   "execution_count": 1,
   "metadata": {
    "collapsed": false
   },
   "outputs": [],
   "source": [
    "%matplotlib inline\n",
    "\n",
    "## main packages\n",
    "import dask.array as da\n",
    "from dask_glm import gradient\n",
    "from multipledispatch import dispatch\n",
    "import matplotlib.pyplot as plt\n",
    "import numpy as np\n",
    "\n",
    "## utility functions\n",
    "from utilities import dot, absolute, sigmoid"
   ]
  },
  {
   "cell_type": "code",
   "execution_count": 2,
   "metadata": {
    "collapsed": true
   },
   "outputs": [],
   "source": [
    "## size of problem (no. observations)\n",
    "N = 40\n",
    "chunks = 2\n",
    "seed = 20009"
   ]
  },
  {
   "cell_type": "markdown",
   "metadata": {},
   "source": [
    "## Create some data (tall and very skinny)"
   ]
  },
  {
   "cell_type": "code",
   "execution_count": 3,
   "metadata": {
    "collapsed": false,
    "scrolled": true
   },
   "outputs": [],
   "source": [
    "def data_create(seed, N, chunks):\n",
    "    da.random.seed(seed)\n",
    "    X = da.random.random((N,2), chunks=chunks)\n",
    "    y = (X.dot(np.array([[1.5,-3]]).T)).map_blocks(sigmoid) + .001*da.random.normal(size=(N,1), chunks=chunks)\n",
    "    return X,y\n",
    "\n",
    "X,y = data_create(seed, N, chunks)"
   ]
  },
  {
   "cell_type": "code",
   "execution_count": 4,
   "metadata": {
    "collapsed": false
   },
   "outputs": [],
   "source": [
    "# np.random.seed(20009)\n",
    "# X = np.random.random((N,2))\n",
    "# y = np.array([sigmoid(x) + 0.001*np.random.normal(0,.1) for x in X.dot(np.array([[1.5,-3]]).T)])\n",
    "# X = da.from_array(X, chunks=2)\n",
    "# y = da.from_array(y, chunks=2)"
   ]
  },
  {
   "cell_type": "markdown",
   "metadata": {},
   "source": [
    "Should profile the Hessian computation, it's possible there's a more efficient way to construct without going through the diagonal matrix construction."
   ]
  },
  {
   "cell_type": "markdown",
   "metadata": {},
   "source": [
    "## Dask Inspect some Newton constructs"
   ]
  },
  {
   "cell_type": "code",
   "execution_count": 5,
   "metadata": {
    "collapsed": false,
    "scrolled": true
   },
   "outputs": [],
   "source": [
    "beta = np.ones((2,1))\n",
    "\n",
    "## \n",
    "p = (X.dot(beta)).map_blocks(sigmoid)\n",
    "W = da.diag((p*(1-p))[:,0])\n",
    "hessian = dot(X.T.dot(W),X)\n",
    "grad = X.T.dot(y-p)\n",
    "#hessian.visualize()"
   ]
  },
  {
   "cell_type": "code",
   "execution_count": 6,
   "metadata": {
    "collapsed": false
   },
   "outputs": [
    {
     "data": {
      "text/plain": [
       "array([[ 2.30984176,  1.83997696],\n",
       "       [ 1.83997696,  2.515287  ]])"
      ]
     },
     "execution_count": 6,
     "metadata": {},
     "output_type": "execute_result"
    }
   ],
   "source": [
    "hessian.compute()"
   ]
  },
  {
   "cell_type": "code",
   "execution_count": 7,
   "metadata": {
    "collapsed": false
   },
   "outputs": [
    {
     "data": {
      "text/plain": [
       "array([[ -8.31844271],\n",
       "       [-11.47213857]])"
      ]
     },
     "execution_count": 7,
     "metadata": {},
     "output_type": "execute_result"
    }
   ],
   "source": [
    "grad.compute()"
   ]
  },
  {
   "cell_type": "markdown",
   "metadata": {},
   "source": [
    "Is there a benefit / difference between \n",
    "\n",
    "- Running `da.compute()` on Hessian and gradient then calling `np.linalg.lstsq()` \n",
    "- Calling `da.linalg.lstsq()` on two dask arrays"
   ]
  },
  {
   "cell_type": "code",
   "execution_count": 8,
   "metadata": {
    "collapsed": true
   },
   "outputs": [],
   "source": [
    "def newton_step(curr, X, y, lam=None):\n",
    "    '''One naive step of Newton's Method'''\n",
    "    \n",
    "    ## compute necessary objects\n",
    "    p = (X.dot(curr)).map_blocks(sigmoid)\n",
    "    W = da.diag((p*(1-p))[:,0])\n",
    "    hessian = dot(X.T.dot(W),X) # shape (parameters x parameters)\n",
    "    grad = X.T.dot(y-p)\n",
    "    \n",
    "    ## regularization\n",
    "    if lam:\n",
    "        step, *_ = da.linalg.lstsq(hessian + lam*np.eye(curr.shape[0]), grad)\n",
    "    else:\n",
    "        step, *_ = da.linalg.lstsq(hessian, grad)\n",
    "        \n",
    "    ## update\n",
    "    beta = curr + step\n",
    "    \n",
    "    return beta.compute()\n",
    "\n",
    "def check_coefs_convergence(beta_old, beta_new, tol, iters, max_iter=50):\n",
    "    '''Checks whether the coefficients have converged in the l-infinity norm.\n",
    "    Returns True if they have converged, False otherwise.'''\n",
    "    \n",
    "    coef_change = absolute(beta_old - beta_new)\n",
    "    \n",
    "    return not (np.any(coef_change>tol) & (iters < max_iter))"
   ]
  },
  {
   "cell_type": "code",
   "execution_count": 9,
   "metadata": {
    "collapsed": false
   },
   "outputs": [
    {
     "data": {
      "text/plain": [
       "array([[ 1.07639001],\n",
       "       [-3.61684669]])"
      ]
     },
     "execution_count": 9,
     "metadata": {},
     "output_type": "execute_result"
    }
   ],
   "source": [
    "beta2 = newton_step(beta, X, y)\n",
    "beta2"
   ]
  },
  {
   "cell_type": "markdown",
   "metadata": {},
   "source": [
    "The sigmoid function can create numerical overflow sometimes (switch `.001` to `0` in the data generation step to see it, with `N=4` and `chunks=2`)."
   ]
  },
  {
   "cell_type": "code",
   "execution_count": 10,
   "metadata": {
    "collapsed": false
   },
   "outputs": [],
   "source": [
    "def newton(X,y,beta):\n",
    "    \n",
    "    iter_count,lam = 0,0\n",
    "    coefs_converged = False\n",
    "\n",
    "    while not coefs_converged:\n",
    "\n",
    "        beta_old = beta\n",
    "        beta = newton_step(beta, X, y, lam=lam)\n",
    "        iter_count += 1\n",
    "\n",
    "        coefs_converged = check_coefs_convergence(beta_old, beta, 1e-4, iter_count)\n",
    "\n",
    "    print('Iterations : {}'.format(iter_count))\n",
    "    print('Beta : {}'.format(beta[:,0]))"
   ]
  },
  {
   "cell_type": "markdown",
   "metadata": {},
   "source": [
    "## Run some Experiments"
   ]
  },
  {
   "cell_type": "code",
   "execution_count": 11,
   "metadata": {
    "collapsed": false
   },
   "outputs": [
    {
     "name": "stdout",
     "output_type": "stream",
     "text": [
      "Iterations : 6\n",
      "Beta : [ 1.49919986 -2.99742612]\n",
      "CPU times: user 2.89 s, sys: 339 ms, total: 3.23 s\n",
      "Wall time: 3.06 s\n"
     ]
    }
   ],
   "source": [
    "%%time\n",
    "newton(X,y,beta)"
   ]
  },
  {
   "cell_type": "code",
   "execution_count": 12,
   "metadata": {
    "collapsed": false
   },
   "outputs": [
    {
     "name": "stdout",
     "output_type": "stream",
     "text": [
      "##       -f        |df/f|    |dx/x|    step\n",
      "----------------------------------------------\n",
      " 1  2.495582e+01  9.99e-02  5.00e-01  1.0e-01\n",
      " 2  2.422214e+01  2.94e-02  2.65e-01  1.2e-01\n",
      " 3  2.381012e+01  1.70e-02  1.86e-01  1.6e-01\n",
      " 4  2.343089e+01  1.59e-02  1.71e-01  2.0e-01\n",
      " 5  2.307541e+01  1.52e-02  1.61e-01  2.4e-01\n",
      " 6  2.276403e+01  1.35e-02  1.48e-01  3.1e-01\n",
      " 7  2.251322e+01  1.10e-02  1.32e-01  3.8e-01\n",
      " 8  2.233067e+01  8.11e-03  1.15e-01  4.8e-01\n",
      " 9  2.221328e+01  5.26e-03  9.61e-02  6.0e-01\n",
      "10  2.214872e+01  2.91e-03  7.64e-02  7.5e-01\n",
      "11  2.211984e+01  1.30e-03  5.64e-02  9.3e-01\n",
      "12  2.211023e+01  4.35e-04  3.71e-02  1.2e+00\n",
      "13  2.210923e+01  4.50e-05  1.18e-02  7.3e-01\n",
      "14  2.210890e+01  1.51e-05  9.32e-03  4.5e-01\n",
      "15  2.210832e+01  2.62e-05  5.88e-03  2.8e-01\n",
      "16  2.210815e+01  7.44e-06  2.95e-03  3.6e-01\n",
      "17  2.210803e+01  5.41e-06  2.73e-03  4.4e-01\n",
      "18  2.210796e+01  3.35e-06  2.92e-03  5.6e-01\n",
      "19  2.210791e+01  2.41e-06  2.01e-03  3.5e-01\n",
      "20  2.210788e+01  1.30e-06  1.63e-03  4.3e-01\n",
      "21  2.210786e+01  5.55e-07  1.80e-03  5.4e-01\n",
      "22  2.210784e+01  9.42e-07  1.38e-03  3.4e-01\n",
      "23  2.210784e+01  3.49e-07  9.98e-04  4.2e-01\n",
      "24  2.210783e+01  3.05e-07  5.47e-04  2.6e-01\n",
      "25  2.210783e+01  1.26e-07  3.14e-04  3.3e-01\n",
      "26  2.210782e+01  1.06e-07  3.17e-04  4.1e-01\n",
      "27  2.210782e+01  8.29e-08  3.20e-04  5.2e-01\n",
      "28  2.210782e+01  5.26e-08  3.20e-04  6.5e-01\n",
      "29  2.210782e+01  2.13e-08  1.95e-04  4.0e-01\n",
      "30  2.210782e+01  1.20e-08  1.99e-04  5.0e-01\n",
      "31  2.210782e+01  1.24e-08  1.34e-04  3.2e-01\n",
      "32  2.210782e+01  5.68e-09  9.09e-05  3.9e-01\n",
      "33  2.210782e+01  3.74e-09  9.04e-05  4.9e-01\n",
      "34  2.210782e+01  2.67e-09  5.61e-05  3.1e-01\n",
      "35  2.210782e+01  1.53e-09  4.11e-05  3.9e-01\n",
      "36  2.210782e+01  1.14e-09  4.08e-05  4.8e-01\n",
      "37  2.210782e+01  5.98e-10  4.52e-05  6.0e-01\n",
      "38  2.210782e+01  4.97e-10  3.49e-05  3.8e-01\n",
      "39  2.210782e+01  1.97e-10  3.14e-05  4.7e-01\n",
      "40  2.210782e+01  3.04e-10  2.04e-05  2.9e-01\n",
      "41  2.210782e+01  1.02e-10  1.13e-05  3.7e-01\n",
      "42  2.210782e+01  7.21e-11  1.06e-05  4.6e-01\n",
      "43  2.210782e+01  3.76e-11  1.18e-05  5.7e-01\n",
      "44  2.210782e+01  3.73e-11  8.96e-06  3.6e-01\n",
      "45  2.210782e+01  1.60e-11  7.38e-06  4.5e-01\n",
      "46  2.210782e+01  1.70e-11  4.40e-06  2.8e-01\n",
      "47  2.210782e+01  6.68e-12  2.50e-06  3.5e-01\n",
      "48  2.210782e+01  5.29e-12  2.43e-06  4.4e-01\n",
      "49  2.210782e+01  3.78e-12  2.50e-06  5.5e-01\n",
      "50  2.210782e+01  1.05e-12  2.90e-06  6.8e-01\n",
      "51  2.210782e+01  1.15e-12  2.78e-06  4.3e-01\n",
      "52  2.210782e+01  2.09e-12  1.58e-06  2.7e-01\n",
      "53  2.210782e+01  3.82e-13  6.15e-07  3.3e-01\n",
      "54  2.210782e+01  2.88e-13  5.62e-07  4.2e-01\n",
      "55  2.210782e+01  2.11e-13  5.75e-07  5.2e-01\n",
      "56  2.210782e+01  8.26e-14  6.55e-07  6.5e-01\n",
      "57  2.210782e+01  7.89e-14  5.74e-07  4.1e-01\n",
      "58  2.210782e+01  8.73e-14  2.98e-07  2.5e-01\n",
      "59  2.210782e+01  2.12e-14  1.27e-07  3.2e-01\n",
      "60  2.210782e+01  1.80e-14  1.27e-07  4.0e-01\n",
      "61  2.210782e+01  1.43e-14  1.29e-07  5.0e-01\n",
      "62  2.210782e+01  9.64e-15  1.28e-07  6.2e-01\n",
      "Converged\n",
      "CPU times: user 5.52 s, sys: 959 ms, total: 6.48 s\n",
      "Wall time: 6 s\n"
     ]
    },
    {
     "data": {
      "text/plain": [
       "array([ 1.49919915, -2.99742543])"
      ]
     },
     "execution_count": 12,
     "metadata": {},
     "output_type": "execute_result"
    }
   ],
   "source": [
    "%%time\n",
    "gradient.gradient(X,y[:,0])"
   ]
  },
  {
   "cell_type": "code",
   "execution_count": 13,
   "metadata": {
    "collapsed": false
   },
   "outputs": [],
   "source": [
    "X,y = data_create(seed, 10000, chunks=100)"
   ]
  },
  {
   "cell_type": "code",
   "execution_count": 14,
   "metadata": {
    "collapsed": false
   },
   "outputs": [
    {
     "name": "stdout",
     "output_type": "stream",
     "text": [
      "Iterations : 5\n",
      "Beta : [ 1.50014406 -3.00026053]\n",
      "CPU times: user 1min 6s, sys: 8.97 s, total: 1min 15s\n",
      "Wall time: 1min 11s\n"
     ]
    }
   ],
   "source": [
    "%%time\n",
    "newton(X,y,beta)"
   ]
  },
  {
   "cell_type": "code",
   "execution_count": 16,
   "metadata": {
    "collapsed": false
   },
   "outputs": [
    {
     "name": "stdout",
     "output_type": "stream",
     "text": [
      "##       -f        |df/f|    |dx/x|    step\n",
      "----------------------------------------------\n",
      " 1  6.198546e+03  1.06e-01  5.00e-01  1.0e-03\n",
      " 2  5.950491e+03  4.00e-02  3.49e-01  1.3e-03\n",
      " 3  5.803968e+03  2.46e-02  2.33e-01  1.6e-03\n",
      " 4  5.716700e+03  1.50e-02  1.98e-01  2.0e-03\n",
      " 5  5.692881e+03  4.17e-03  1.78e-01  2.4e-03\n",
      " 6  5.652310e+03  7.13e-03  1.50e-01  1.5e-03\n",
      " 7  5.630210e+03  3.91e-03  6.54e-02  9.5e-04\n",
      " 8  5.625036e+03  9.19e-04  2.75e-02  1.2e-03\n",
      " 9  5.620660e+03  7.78e-04  2.76e-02  1.5e-03\n",
      "10  5.617261e+03  6.05e-04  2.68e-02  1.9e-03\n",
      "11  5.614932e+03  4.15e-04  2.47e-02  2.3e-03\n",
      "12  5.613592e+03  2.39e-04  2.13e-02  2.9e-03\n",
      "13  5.613108e+03  8.62e-05  1.78e-02  3.6e-03\n",
      "14  5.612875e+03  4.15e-05  7.01e-03  1.1e-03\n",
      "15  5.612808e+03  1.20e-05  3.33e-03  1.4e-03\n",
      "16  5.612756e+03  9.26e-06  3.18e-03  1.8e-03\n",
      "17  5.612719e+03  6.61e-06  3.11e-03  2.2e-03\n",
      "18  5.612699e+03  3.43e-06  3.10e-03  2.8e-03\n",
      "19  5.612690e+03  1.61e-06  2.17e-03  1.7e-03\n",
      "20  5.612687e+03  4.89e-07  2.17e-03  2.2e-03\n",
      "21  5.612680e+03  1.28e-06  1.56e-03  1.4e-03\n",
      "22  5.612678e+03  3.54e-07  9.17e-04  1.7e-03\n",
      "23  5.612677e+03  1.55e-07  8.84e-04  2.1e-03\n",
      "24  5.612676e+03  2.16e-07  5.95e-04  1.3e-03\n",
      "25  5.612676e+03  7.46e-08  3.54e-04  1.7e-03\n",
      "26  5.612676e+03  4.47e-08  3.34e-04  2.1e-03\n",
      "27  5.612675e+03  3.20e-08  2.01e-04  1.3e-03\n",
      "28  5.612675e+03  1.63e-08  1.38e-04  1.6e-03\n",
      "29  5.612675e+03  1.17e-08  1.32e-04  2.0e-03\n",
      "30  5.612675e+03  6.30e-09  1.39e-04  2.5e-03\n",
      "31  5.612675e+03  4.23e-09  9.80e-05  1.6e-03\n",
      "32  5.612675e+03  1.88e-09  8.36e-05  2.0e-03\n",
      "33  5.612675e+03  1.95e-09  5.05e-05  1.2e-03\n",
      "34  5.612675e+03  7.29e-10  2.86e-05  1.5e-03\n",
      "35  5.612675e+03  5.29e-10  2.69e-05  1.9e-03\n",
      "36  5.612675e+03  3.23e-10  2.74e-05  2.4e-03\n",
      "37  5.612675e+03  1.80e-10  1.74e-05  1.5e-03\n",
      "38  5.612675e+03  1.00e-10  1.43e-05  1.9e-03\n",
      "39  5.612675e+03  4.26e-11  1.55e-05  2.4e-03\n",
      "40  5.612675e+03  6.10e-11  1.17e-05  1.5e-03\n",
      "41  5.612675e+03  2.15e-11  8.41e-06  1.8e-03\n",
      "42  5.612675e+03  1.91e-11  4.60e-06  1.1e-03\n",
      "43  5.612675e+03  7.06e-12  2.50e-06  1.4e-03\n",
      "44  5.612675e+03  5.57e-12  2.44e-06  1.8e-03\n",
      "45  5.612675e+03  4.00e-12  2.39e-06  2.2e-03\n",
      "46  5.612675e+03  2.15e-12  2.35e-06  2.8e-03\n",
      "47  5.612675e+03  9.06e-13  1.56e-06  1.8e-03\n",
      "48  5.612675e+03  3.13e-13  1.58e-06  2.2e-03\n",
      "49  5.612675e+03  6.80e-13  1.14e-06  1.4e-03\n",
      "50  5.612675e+03  2.03e-13  6.91e-07  1.7e-03\n",
      "51  5.612675e+03  8.93e-14  6.76e-07  2.1e-03\n",
      "52  5.612675e+03  1.25e-13  4.60e-07  1.3e-03\n",
      "53  5.612675e+03  4.38e-14  2.78e-07  1.7e-03\n",
      "54  5.612675e+03  2.53e-14  2.65e-07  2.1e-03\n",
      "55  5.612675e+03  1.99e-14  1.64e-07  1.3e-03\n",
      "56  5.612675e+03  9.40e-15  1.09e-07  1.6e-03\n",
      "Converged\n",
      "CPU times: user 24.4 s, sys: 4.15 s, total: 28.6 s\n",
      "Wall time: 26.2 s\n"
     ]
    },
    {
     "data": {
      "text/plain": [
       "array([ 1.50014338, -3.00025956])"
      ]
     },
     "execution_count": 16,
     "metadata": {},
     "output_type": "execute_result"
    }
   ],
   "source": [
    "%%time\n",
    "gradient.gradient(X,y[:,0])"
   ]
  },
  {
   "cell_type": "code",
   "execution_count": 24,
   "metadata": {
    "collapsed": true
   },
   "outputs": [],
   "source": [
    "X, y = X.rechunk(chunks=50), y.rechunk(chunks=50)"
   ]
  },
  {
   "cell_type": "code",
   "execution_count": 25,
   "metadata": {
    "collapsed": false
   },
   "outputs": [
    {
     "name": "stdout",
     "output_type": "stream",
     "text": [
      "Iterations : 5\n",
      "Beta : [ 1.50014406 -3.00026053]\n",
      "CPU times: user 4min 52s, sys: 30.3 s, total: 5min 22s\n",
      "Wall time: 5min 11s\n"
     ]
    }
   ],
   "source": [
    "%%time\n",
    "newton(X,y,beta)"
   ]
  },
  {
   "cell_type": "code",
   "execution_count": 26,
   "metadata": {
    "collapsed": false
   },
   "outputs": [
    {
     "name": "stdout",
     "output_type": "stream",
     "text": [
      "##       -f        |df/f|    |dx/x|    step\n",
      "----------------------------------------------\n",
      " 1  6.198546e+03  1.06e-01  5.00e-01  1.0e-03\n",
      " 2  5.950491e+03  4.00e-02  3.49e-01  1.3e-03\n",
      " 3  5.803968e+03  2.46e-02  2.33e-01  1.6e-03\n",
      " 4  5.716700e+03  1.50e-02  1.98e-01  2.0e-03\n",
      " 5  5.692881e+03  4.17e-03  1.78e-01  2.4e-03\n",
      " 6  5.652310e+03  7.13e-03  1.50e-01  1.5e-03\n",
      " 7  5.630210e+03  3.91e-03  6.54e-02  9.5e-04\n",
      " 8  5.625036e+03  9.19e-04  2.75e-02  1.2e-03\n",
      " 9  5.620660e+03  7.78e-04  2.76e-02  1.5e-03\n",
      "10  5.617261e+03  6.05e-04  2.68e-02  1.9e-03\n",
      "11  5.614932e+03  4.15e-04  2.47e-02  2.3e-03\n",
      "12  5.613592e+03  2.39e-04  2.13e-02  2.9e-03\n",
      "13  5.613108e+03  8.62e-05  1.78e-02  3.6e-03\n",
      "14  5.612875e+03  4.15e-05  7.01e-03  1.1e-03\n",
      "15  5.612808e+03  1.20e-05  3.33e-03  1.4e-03\n",
      "16  5.612756e+03  9.26e-06  3.18e-03  1.8e-03\n",
      "17  5.612719e+03  6.61e-06  3.11e-03  2.2e-03\n",
      "18  5.612699e+03  3.43e-06  3.10e-03  2.8e-03\n",
      "19  5.612690e+03  1.61e-06  2.17e-03  1.7e-03\n",
      "20  5.612687e+03  4.89e-07  2.17e-03  2.2e-03\n",
      "21  5.612680e+03  1.28e-06  1.56e-03  1.4e-03\n",
      "22  5.612678e+03  3.54e-07  9.17e-04  1.7e-03\n",
      "23  5.612677e+03  1.55e-07  8.84e-04  2.1e-03\n",
      "24  5.612676e+03  2.16e-07  5.95e-04  1.3e-03\n",
      "25  5.612676e+03  7.46e-08  3.54e-04  1.7e-03\n",
      "26  5.612676e+03  4.47e-08  3.34e-04  2.1e-03\n",
      "27  5.612675e+03  3.20e-08  2.01e-04  1.3e-03\n",
      "28  5.612675e+03  1.63e-08  1.38e-04  1.6e-03\n",
      "29  5.612675e+03  1.17e-08  1.32e-04  2.0e-03\n",
      "30  5.612675e+03  6.30e-09  1.39e-04  2.5e-03\n",
      "31  5.612675e+03  4.23e-09  9.80e-05  1.6e-03\n",
      "32  5.612675e+03  1.88e-09  8.36e-05  2.0e-03\n",
      "33  5.612675e+03  1.95e-09  5.05e-05  1.2e-03\n",
      "34  5.612675e+03  7.29e-10  2.86e-05  1.5e-03\n",
      "35  5.612675e+03  5.29e-10  2.69e-05  1.9e-03\n",
      "36  5.612675e+03  3.23e-10  2.74e-05  2.4e-03\n",
      "37  5.612675e+03  1.80e-10  1.74e-05  1.5e-03\n",
      "38  5.612675e+03  1.00e-10  1.43e-05  1.9e-03\n",
      "39  5.612675e+03  4.26e-11  1.55e-05  2.4e-03\n",
      "40  5.612675e+03  6.10e-11  1.17e-05  1.5e-03\n",
      "41  5.612675e+03  2.15e-11  8.41e-06  1.8e-03\n",
      "42  5.612675e+03  1.91e-11  4.60e-06  1.1e-03\n",
      "43  5.612675e+03  7.06e-12  2.50e-06  1.4e-03\n",
      "44  5.612675e+03  5.57e-12  2.44e-06  1.8e-03\n",
      "45  5.612675e+03  4.00e-12  2.39e-06  2.2e-03\n",
      "46  5.612675e+03  2.15e-12  2.35e-06  2.8e-03\n",
      "47  5.612675e+03  9.07e-13  1.56e-06  1.8e-03\n",
      "48  5.612675e+03  3.13e-13  1.58e-06  2.2e-03\n",
      "49  5.612675e+03  6.79e-13  1.14e-06  1.4e-03\n",
      "50  5.612675e+03  2.03e-13  6.91e-07  1.7e-03\n",
      "51  5.612675e+03  8.93e-14  6.76e-07  2.1e-03\n",
      "52  5.612675e+03  1.26e-13  4.60e-07  1.3e-03\n",
      "53  5.612675e+03  4.38e-14  2.78e-07  1.7e-03\n",
      "54  5.612675e+03  2.50e-14  2.65e-07  2.1e-03\n",
      "55  5.612675e+03  1.99e-14  1.64e-07  1.3e-03\n",
      "56  5.612675e+03  9.56e-15  1.09e-07  1.6e-03\n",
      "Converged\n",
      "CPU times: user 2min 12s, sys: 14.1 s, total: 2min 26s\n",
      "Wall time: 2min 19s\n"
     ]
    },
    {
     "data": {
      "text/plain": [
       "array([ 1.50014338, -3.00025956])"
      ]
     },
     "execution_count": 26,
     "metadata": {},
     "output_type": "execute_result"
    }
   ],
   "source": [
    "%%time\n",
    "gradient.gradient(X,y[:,0])"
   ]
  },
  {
   "cell_type": "code",
   "execution_count": 27,
   "metadata": {
    "collapsed": true
   },
   "outputs": [],
   "source": [
    "X,y = data_create(seed, 100000, chunks=1000)"
   ]
  },
  {
   "cell_type": "code",
   "execution_count": 28,
   "metadata": {
    "collapsed": false
   },
   "outputs": [
    {
     "name": "stdout",
     "output_type": "stream",
     "text": [
      "Iterations : 5\n",
      "Beta : [ 1.50007803 -3.00003909]\n",
      "CPU times: user 11min 3s, sys: 4min 29s, total: 15min 33s\n",
      "Wall time: 6min 5s\n"
     ]
    }
   ],
   "source": [
    "%%time\n",
    "newton(X,y,beta)"
   ]
  },
  {
   "cell_type": "code",
   "execution_count": 29,
   "metadata": {
    "collapsed": false,
    "scrolled": true
   },
   "outputs": [
    {
     "name": "stdout",
     "output_type": "stream",
     "text": [
      "##       -f        |df/f|    |dx/x|    step\n",
      "----------------------------------------------\n",
      " 1  6.209785e+04  1.04e-01  5.00e-01  1.0e-04\n",
      " 2  5.959951e+04  4.02e-02  3.54e-01  1.3e-04\n",
      " 3  5.813401e+04  2.46e-02  2.36e-01  1.6e-04\n",
      " 4  5.727424e+04  1.48e-02  2.02e-01  2.0e-04\n",
      " 5  5.711269e+04  2.82e-03  1.87e-01  2.4e-04\n",
      " 6  5.664658e+04  8.16e-03  1.64e-01  1.5e-04\n",
      " 7  5.637851e+04  4.73e-03  7.28e-02  9.5e-05\n",
      " 8  5.632638e+04  9.25e-04  2.79e-02  1.2e-04\n",
      " 9  5.628271e+04  7.75e-04  2.76e-02  1.5e-04\n",
      "10  5.624879e+04  6.03e-04  2.68e-02  1.9e-04\n",
      "11  5.622555e+04  4.13e-04  2.47e-02  2.3e-04\n",
      "12  5.621235e+04  2.35e-04  2.15e-02  2.9e-04\n",
      "13  5.620952e+04  5.03e-05  1.97e-02  3.6e-04\n",
      "14  5.620496e+04  8.11e-05  1.03e-02  1.1e-04\n",
      "15  5.620422e+04  1.33e-05  3.86e-03  1.4e-04\n",
      "16  5.620369e+04  9.41e-06  3.42e-03  1.8e-04\n",
      "17  5.620333e+04  6.37e-06  3.40e-03  2.2e-04\n",
      "18  5.620323e+04  1.75e-06  3.85e-03  2.8e-04\n",
      "19  5.620310e+04  2.34e-06  3.49e-03  1.7e-04\n",
      "20  5.620294e+04  2.81e-06  1.79e-03  1.1e-04\n",
      "21  5.620292e+04  4.95e-07  6.54e-04  1.4e-04\n",
      "22  5.620289e+04  3.90e-07  6.26e-04  1.7e-04\n",
      "23  5.620288e+04  2.91e-07  6.18e-04  2.1e-04\n",
      "24  5.620287e+04  1.76e-07  6.00e-04  2.6e-04\n",
      "25  5.620286e+04  6.92e-08  3.50e-04  1.7e-04\n",
      "26  5.620286e+04  4.00e-08  3.34e-04  2.1e-04\n",
      "27  5.620286e+04  3.20e-08  2.07e-04  1.3e-04\n",
      "28  5.620286e+04  1.53e-08  1.38e-04  1.6e-04\n",
      "29  5.620286e+04  1.07e-08  1.32e-04  2.0e-04\n",
      "30  5.620286e+04  5.08e-09  1.43e-04  2.5e-04\n",
      "31  5.620286e+04  4.53e-09  1.09e-04  1.6e-04\n",
      "32  5.620286e+04  1.63e-09  9.37e-05  2.0e-04\n",
      "33  5.620286e+04  2.42e-09  5.89e-05  1.2e-04\n",
      "34  5.620286e+04  7.19e-10  3.05e-05  1.5e-04\n",
      "35  5.620286e+04  4.91e-10  2.79e-05  1.9e-04\n",
      "36  5.620286e+04  2.59e-10  2.97e-05  2.4e-04\n",
      "37  5.620286e+04  2.15e-10  2.13e-05  1.5e-04\n",
      "38  5.620286e+04  9.44e-11  1.70e-05  1.9e-04\n",
      "39  5.620286e+04  8.15e-11  9.64e-06  1.2e-04\n",
      "40  5.620286e+04  3.37e-11  5.63e-06  1.5e-04\n",
      "41  5.620286e+04  2.61e-11  5.45e-06  1.8e-04\n",
      "42  5.620286e+04  1.81e-11  5.37e-06  2.3e-04\n",
      "43  5.620286e+04  7.42e-12  5.64e-06  2.9e-04\n",
      "44  5.620286e+04  4.46e-12  4.67e-06  1.8e-04\n",
      "45  5.620286e+04  5.44e-12  2.54e-06  1.1e-04\n",
      "46  5.620286e+04  1.28e-12  1.09e-06  1.4e-04\n",
      "47  5.620286e+04  9.89e-13  1.03e-06  1.8e-04\n",
      "48  5.620286e+04  7.15e-13  1.01e-06  2.2e-04\n",
      "49  5.620286e+04  3.77e-13  1.02e-06  2.7e-04\n",
      "50  5.620286e+04  1.83e-13  7.18e-07  1.7e-04\n",
      "51  5.620286e+04  6.01e-14  7.13e-07  2.1e-04\n",
      "52  5.620286e+04  1.40e-13  5.08e-07  1.3e-04\n",
      "53  5.620286e+04  4.04e-14  2.97e-07  1.7e-04\n",
      "54  5.620286e+04  1.94e-14  2.85e-07  2.1e-04\n",
      "55  5.620286e+04  2.28e-14  1.88e-07  1.3e-04\n",
      "56  5.620286e+04  8.54e-15  1.14e-07  1.6e-04\n",
      "Converged\n",
      "CPU times: user 28.2 s, sys: 5.25 s, total: 33.5 s\n",
      "Wall time: 28.8 s\n"
     ]
    },
    {
     "data": {
      "text/plain": [
       "array([ 1.50007742, -3.00003817])"
      ]
     },
     "execution_count": 29,
     "metadata": {},
     "output_type": "execute_result"
    }
   ],
   "source": [
    "%%time\n",
    "gradient.gradient(X,y[:,0])"
   ]
  },
  {
   "cell_type": "code",
   "execution_count": 33,
   "metadata": {
    "collapsed": true
   },
   "outputs": [],
   "source": [
    "X,y = data_create(seed, 1e6, chunks=1e4)"
   ]
  },
  {
   "cell_type": "code",
   "execution_count": 34,
   "metadata": {
    "collapsed": false
   },
   "outputs": [
    {
     "name": "stdout",
     "output_type": "stream",
     "text": [
      "##       -f        |df/f|    |dx/x|    step\n",
      "----------------------------------------------\n",
      " 1  6.204716e+05  1.05e-01  5.00e-01  1.0e-05\n",
      " 2  5.952461e+05  4.07e-02  3.55e-01  1.3e-05\n",
      " 3  5.805687e+05  2.47e-02  2.36e-01  1.6e-05\n",
      " 4  5.720201e+05  1.47e-02  2.03e-01  2.0e-05\n",
      " 5  5.676665e+05  7.61e-03  1.15e-01  1.2e-05\n",
      " 6  5.651661e+05  4.40e-03  8.42e-02  1.5e-05\n",
      " 7  5.635057e+05  2.94e-03  7.42e-02  1.9e-05\n",
      " 8  5.627526e+05  1.34e-03  7.51e-02  2.4e-05\n",
      " 9  5.620893e+05  1.18e-03  5.56e-02  1.5e-05\n",
      "10  5.618287e+05  4.64e-04  4.55e-02  1.9e-05\n",
      "11  5.615258e+05  5.39e-04  2.70e-02  1.2e-05\n",
      "12  5.614304e+05  1.70e-04  1.40e-02  1.5e-05\n",
      "13  5.613613e+05  1.23e-04  1.27e-02  1.8e-05\n",
      "14  5.613166e+05  7.97e-05  1.26e-02  2.3e-05\n",
      "15  5.612942e+05  3.99e-05  7.42e-03  1.4e-05\n",
      "16  5.612802e+05  2.49e-05  6.10e-03  1.8e-05\n",
      "17  5.612717e+05  1.52e-05  6.16e-03  2.2e-05\n",
      "18  5.612660e+05  1.02e-05  3.92e-03  1.4e-05\n",
      "19  5.612629e+05  5.41e-06  2.92e-03  1.7e-05\n",
      "20  5.612611e+05  3.26e-06  2.93e-03  2.2e-05\n",
      "21  5.612598e+05  2.37e-06  1.86e-03  1.4e-05\n",
      "22  5.612591e+05  1.21e-06  1.33e-03  1.7e-05\n",
      "23  5.612586e+05  7.74e-07  1.31e-03  2.1e-05\n",
      "24  5.612584e+05  4.90e-07  7.90e-04  1.3e-05\n",
      "25  5.612582e+05  2.75e-07  5.81e-04  1.7e-05\n",
      "26  5.612581e+05  1.92e-07  5.66e-04  2.1e-05\n",
      "27  5.612581e+05  8.22e-08  6.20e-04  2.6e-05\n",
      "28  5.612580e+05  8.00e-08  4.96e-04  1.6e-05\n",
      "29  5.612580e+05  2.20e-08  4.44e-04  2.0e-05\n",
      "30  5.612580e+05  5.40e-08  2.95e-04  1.3e-05\n",
      "31  5.612580e+05  1.32e-08  1.49e-04  1.6e-05\n",
      "32  5.612580e+05  7.75e-09  1.35e-04  2.0e-05\n",
      "33  5.612580e+05  5.38e-09  7.82e-05  1.2e-05\n",
      "34  5.612580e+05  2.81e-09  5.32e-05  1.5e-05\n",
      "35  5.612580e+05  2.13e-09  5.16e-05  1.9e-05\n",
      "36  5.612580e+05  1.37e-09  5.16e-05  2.4e-05\n",
      "37  5.612580e+05  6.31e-10  3.03e-05  1.5e-05\n",
      "38  5.612580e+05  3.98e-10  2.63e-05  1.9e-05\n",
      "39  5.612580e+05  1.99e-10  2.81e-05  2.4e-05\n",
      "40  5.612580e+05  2.01e-10  2.05e-05  1.5e-05\n",
      "41  5.612580e+05  8.24e-11  1.55e-05  1.8e-05\n",
      "42  5.612580e+05  6.76e-11  8.54e-06  1.1e-05\n",
      "43  5.612580e+05  2.82e-11  4.99e-06  1.4e-05\n",
      "44  5.612580e+05  2.23e-11  4.89e-06  1.8e-05\n",
      "45  5.612580e+05  1.60e-11  4.80e-06  2.2e-05\n",
      "46  5.612580e+05  8.41e-12  4.75e-06  2.8e-05\n",
      "47  5.612580e+05  3.64e-12  3.27e-06  1.8e-05\n",
      "48  5.612580e+05  2.86e-12  1.69e-06  1.1e-05\n",
      "49  5.612580e+05  1.11e-12  9.39e-07  1.4e-05\n",
      "50  5.612580e+05  9.10e-13  9.43e-07  1.7e-05\n",
      "51  5.612580e+05  6.81e-13  9.30e-07  2.1e-05\n",
      "52  5.612580e+05  4.27e-13  8.76e-07  2.7e-05\n",
      "53  5.612580e+05  1.02e-13  8.89e-07  3.3e-05\n",
      "54  5.612580e+05  1.87e-13  4.46e-07  1.0e-05\n",
      "55  5.612580e+05  2.95e-14  1.50e-07  1.3e-05\n",
      "56  5.612580e+05  2.41e-14  1.49e-07  1.6e-05\n",
      "57  5.612580e+05  1.87e-14  1.48e-07  2.0e-05\n",
      "58  5.612580e+05  1.16e-14  1.41e-07  2.5e-05\n",
      "59  5.612580e+05  5.39e-15  1.35e-07  3.2e-05\n",
      "Converged\n",
      "CPU times: user 1min 2s, sys: 10.2 s, total: 1min 12s\n",
      "Wall time: 47 s\n"
     ]
    },
    {
     "data": {
      "text/plain": [
       "array([ 1.50000934, -3.00003526])"
      ]
     },
     "execution_count": 34,
     "metadata": {},
     "output_type": "execute_result"
    }
   ],
   "source": [
    "%%time\n",
    "gradient.gradient(X,y[:,0])"
   ]
  },
  {
   "cell_type": "code",
   "execution_count": 36,
   "metadata": {
    "collapsed": true
   },
   "outputs": [],
   "source": [
    "X,y = data_create(seed, 1e7, chunks=1e4)"
   ]
  },
  {
   "cell_type": "code",
   "execution_count": 37,
   "metadata": {
    "collapsed": false
   },
   "outputs": [
    {
     "name": "stdout",
     "output_type": "stream",
     "text": [
      "##       -f        |df/f|    |dx/x|    step\n",
      "----------------------------------------------\n",
      " 1  6.206216e+06  1.05e-01  5.00e-01  1.0e-06\n",
      " 2  5.954144e+06  4.06e-02  3.56e-01  1.3e-06\n",
      " 3  5.807726e+06  2.46e-02  2.37e-01  1.6e-06\n",
      " 4  5.722567e+06  1.47e-02  2.04e-01  2.0e-06\n",
      " 5  5.678526e+06  7.70e-03  1.16e-01  1.2e-06\n",
      " 6  5.653389e+06  4.43e-03  8.50e-02  1.5e-06\n",
      " 7  5.636763e+06  2.94e-03  7.49e-02  1.9e-06\n",
      " 8  5.629443e+06  1.30e-03  7.64e-02  2.4e-06\n",
      " 9  5.622563e+06  1.22e-03  5.74e-02  1.5e-06\n",
      "10  5.619950e+06  4.65e-04  4.71e-02  1.9e-06\n",
      "11  5.616711e+06  5.76e-04  2.82e-02  1.2e-06\n",
      "12  5.615735e+06  1.74e-04  1.43e-02  1.5e-06\n",
      "13  5.615037e+06  1.24e-04  1.29e-02  1.8e-06\n",
      "14  5.614590e+06  7.96e-05  1.29e-02  2.3e-06\n",
      "15  5.614354e+06  4.20e-05  7.78e-03  1.4e-06\n",
      "16  5.614211e+06  2.54e-05  6.31e-03  1.8e-06\n",
      "17  5.614127e+06  1.51e-05  6.42e-03  2.2e-06\n",
      "18  5.614065e+06  1.11e-05  4.19e-03  1.4e-06\n",
      "19  5.614034e+06  5.57e-06  3.07e-03  1.7e-06\n",
      "20  5.614016e+06  3.22e-06  3.09e-03  2.2e-06\n",
      "21  5.614001e+06  2.64e-06  2.02e-03  1.4e-06\n",
      "22  5.613994e+06  1.26e-06  1.41e-03  1.7e-06\n",
      "23  5.613989e+06  7.75e-07  1.39e-03  2.1e-06\n",
      "24  5.613986e+06  5.47e-07  8.60e-04  1.3e-06\n",
      "25  5.613985e+06  2.87e-07  6.10e-04  1.7e-06\n",
      "26  5.613984e+06  1.96e-07  5.94e-04  2.1e-06\n",
      "27  5.613983e+06  7.01e-08  6.69e-04  2.6e-06\n",
      "28  5.613983e+06  9.33e-08  5.61e-04  1.6e-06\n",
      "29  5.613982e+06  6.73e-08  2.51e-04  1.0e-06\n",
      "30  5.613982e+06  1.69e-08  1.08e-04  1.3e-06\n",
      "31  5.613982e+06  1.45e-08  1.13e-04  1.6e-06\n",
      "32  5.613982e+06  1.15e-08  1.13e-04  2.0e-06\n",
      "33  5.613982e+06  7.89e-09  1.07e-04  2.5e-06\n",
      "34  5.613982e+06  4.44e-09  9.47e-05  3.1e-06\n",
      "35  5.613982e+06  7.88e-10  8.70e-05  3.9e-06\n",
      "36  5.613982e+06  1.54e-09  4.81e-05  1.2e-06\n",
      "37  5.613982e+06  2.58e-10  2.01e-05  1.5e-06\n",
      "38  5.613982e+06  1.55e-10  1.72e-05  1.9e-06\n",
      "39  5.613982e+06  6.91e-11  1.87e-05  2.4e-06\n",
      "40  5.613982e+06  8.89e-11  1.41e-05  1.5e-06\n",
      "41  5.613982e+06  3.28e-11  1.05e-05  1.8e-06\n",
      "42  5.613982e+06  3.06e-11  5.88e-06  1.1e-06\n",
      "43  5.613982e+06  1.12e-11  3.20e-06  1.4e-06\n",
      "44  5.613982e+06  8.80e-12  3.10e-06  1.8e-06\n",
      "45  5.613982e+06  6.26e-12  3.05e-06  2.2e-06\n",
      "46  5.613982e+06  3.07e-12  3.10e-06  2.8e-06\n",
      "47  5.613982e+06  1.53e-12  2.30e-06  1.8e-06\n",
      "48  5.613982e+06  1.37e-12  1.20e-06  1.1e-06\n",
      "49  5.613982e+06  4.45e-13  6.02e-07  1.4e-06\n",
      "50  5.613982e+06  3.61e-13  5.98e-07  1.7e-06\n",
      "51  5.613982e+06  2.70e-13  5.90e-07  2.1e-06\n",
      "52  5.613982e+06  1.66e-13  5.62e-07  2.7e-06\n",
      "53  5.613982e+06  6.02e-14  3.03e-07  1.7e-06\n",
      "54  5.613982e+06  3.78e-14  2.95e-07  2.1e-06\n",
      "55  5.613982e+06  2.37e-14  1.79e-07  1.3e-06\n",
      "56  5.613982e+06  1.34e-14  1.28e-07  1.6e-06\n",
      "57  5.613982e+06  1.08e-14  1.24e-07  2.0e-06\n",
      "58  5.613982e+06  5.47e-15  1.34e-07  2.5e-06\n",
      "Converged\n",
      "CPU times: user 10min 23s, sys: 1min 43s, total: 12min 7s\n",
      "Wall time: 8min 6s\n"
     ]
    },
    {
     "data": {
      "text/plain": [
       "array([ 1.49999861, -3.00000063])"
      ]
     },
     "execution_count": 37,
     "metadata": {},
     "output_type": "execute_result"
    }
   ],
   "source": [
    "%%time\n",
    "gradient.gradient(X,y[:,0])"
   ]
  },
  {
   "cell_type": "markdown",
   "metadata": {},
   "source": [
    "## Observations"
   ]
  },
  {
   "cell_type": "markdown",
   "metadata": {},
   "source": [
    "The first order method is less sensititive to chunks and is clearly superior.  Inverting matrices is hard.  Next step: quasi-Newton, and how is performance impacted when we move to `dask.distributed`?"
   ]
  },
  {
   "cell_type": "code",
   "execution_count": null,
   "metadata": {
    "collapsed": true
   },
   "outputs": [],
   "source": []
  }
 ],
 "metadata": {
  "kernelspec": {
   "display_name": "Python 3",
   "language": "python",
   "name": "python3"
  },
  "language_info": {
   "codemirror_mode": {
    "name": "ipython",
    "version": 3
   },
   "file_extension": ".py",
   "mimetype": "text/x-python",
   "name": "python",
   "nbconvert_exporter": "python",
   "pygments_lexer": "ipython3",
   "version": "3.5.2"
  }
 },
 "nbformat": 4,
 "nbformat_minor": 0
}
